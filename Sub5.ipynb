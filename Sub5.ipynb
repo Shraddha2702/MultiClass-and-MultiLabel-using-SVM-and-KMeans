{
 "cells": [
  {
   "cell_type": "markdown",
   "metadata": {
    "colab_type": "text",
    "id": "JUGMvtVAUtDr"
   },
   "source": [
    "# 1. Multi-class and Multi-Label Classification Using Support Vector Machines"
   ]
  },
  {
   "cell_type": "code",
   "execution_count": null,
   "metadata": {
    "colab": {
     "base_uri": "https://localhost:8080/",
     "height": 108
    },
    "colab_type": "code",
    "id": "17b1vv9cR_yi",
    "outputId": "f44d8039-005b-4891-cc2d-173c028fc0f5"
   },
   "outputs": [],
   "source": [
    "!pip install imblearn"
   ]
  },
  {
   "cell_type": "code",
   "execution_count": 1,
   "metadata": {
    "colab": {},
    "colab_type": "code",
    "id": "vNxbxnDlUtDv"
   },
   "outputs": [],
   "source": [
    "import pandas as pd\n",
    "import numpy as np\n",
    "from sklearn.model_selection import train_test_split\n",
    "from imblearn.over_sampling import SMOTE"
   ]
  },
  {
   "cell_type": "code",
   "execution_count": 2,
   "metadata": {
    "colab": {},
    "colab_type": "code",
    "id": "wsLEulWDUtD7"
   },
   "outputs": [],
   "source": [
    "import random\n",
    "import warnings\n",
    "warnings.filterwarnings(\"ignore\")\n",
    "from sklearn import metrics"
   ]
  },
  {
   "cell_type": "code",
   "execution_count": 3,
   "metadata": {
    "colab": {},
    "colab_type": "code",
    "id": "DMj_Pb34UtEG"
   },
   "outputs": [],
   "source": [
    "from sklearn.linear_model import LogisticRegression\n",
    "from sklearn.pipeline import Pipeline\n",
    "from sklearn.metrics import accuracy_score\n",
    "from sklearn.multiclass import OneVsRestClassifier"
   ]
  },
  {
   "cell_type": "code",
   "execution_count": 4,
   "metadata": {
    "colab": {},
    "colab_type": "code",
    "id": "ryfpFTEQUtEO"
   },
   "outputs": [],
   "source": [
    "import pandas as pd\n",
    "import numpy as np"
   ]
  },
  {
   "cell_type": "markdown",
   "metadata": {
    "colab_type": "text",
    "id": "mo68t6agUtEZ"
   },
   "source": [
    "### (a) Download the Anuran Calls (MFCCs) Data Set from: https://archive.ics.uci.edu/ml/datasets/Anuran+Calls+%28MFCCs%29. Choose 70% of the data randomly as the training set."
   ]
  },
  {
   "cell_type": "code",
   "execution_count": 6,
   "metadata": {
    "colab": {},
    "colab_type": "code",
    "id": "o5vPCan1UtEc"
   },
   "outputs": [],
   "source": [
    "df = pd.read_csv('data/Frogs_MFCCs.csv')"
   ]
  },
  {
   "cell_type": "code",
   "execution_count": 7,
   "metadata": {
    "colab": {},
    "colab_type": "code",
    "id": "BDIfts-_UtEm"
   },
   "outputs": [],
   "source": [
    "train_data, test_data = train_test_split(df, train_size=0.7, shuffle=True)"
   ]
  },
  {
   "cell_type": "markdown",
   "metadata": {
    "colab_type": "text",
    "id": "D74X_Lf6UtEw"
   },
   "source": [
    "### (b) Each instance has three labels: Families, Genus, and Species. Each of the labels has multiple classes. We wish to solve a multi-class and multi-label problem. One of the most important approaches to multi-class classification is to train a classifier for each label. We first try this approach:"
   ]
  },
  {
   "cell_type": "markdown",
   "metadata": {
    "colab_type": "text",
    "id": "7O-PRy0uUtEz"
   },
   "source": [
    "### i. Research exact match and hamming score/ loss methods for evaluating multi-label classification and use them in evaluating the classifiers in this problem."
   ]
  },
  {
   "cell_type": "code",
   "execution_count": 8,
   "metadata": {
    "colab": {},
    "colab_type": "code",
    "id": "c5zCTyysUtE2"
   },
   "outputs": [],
   "source": [
    "from sklearn.metrics import hamming_loss"
   ]
  },
  {
   "cell_type": "code",
   "execution_count": 9,
   "metadata": {
    "colab": {},
    "colab_type": "code",
    "id": "x3HwQQ8lrqgx"
   },
   "outputs": [],
   "source": [
    "def compute_hamming_loss(pred):\n",
    "    hamming_loss = []\n",
    "    for l in categories:\n",
    "        hamming_loss.append(metrics.hamming_loss(test_df[l], pred[l]))\n",
    "    return round(np.mean(hamming_loss), 2)"
   ]
  },
  {
   "cell_type": "code",
   "execution_count": 10,
   "metadata": {
    "colab": {
     "base_uri": "https://localhost:8080/",
     "height": 126
    },
    "colab_type": "code",
    "id": "t_RysFvgUtFA",
    "outputId": "6d11eb80-816e-4e1c-c56a-249aae2e762b",
    "scrolled": false
   },
   "outputs": [
    {
     "data": {
      "text/plain": [
       "array(['MFCCs_ 1', 'MFCCs_ 2', 'MFCCs_ 3', 'MFCCs_ 4', 'MFCCs_ 5',\n",
       "       'MFCCs_ 6', 'MFCCs_ 7', 'MFCCs_ 8', 'MFCCs_ 9', 'MFCCs_10',\n",
       "       'MFCCs_11', 'MFCCs_12', 'MFCCs_13', 'MFCCs_14', 'MFCCs_15',\n",
       "       'MFCCs_16', 'MFCCs_17', 'MFCCs_18', 'MFCCs_19', 'MFCCs_20',\n",
       "       'MFCCs_21', 'MFCCs_22', 'Family', 'Genus', 'Species', 'RecordID'],\n",
       "      dtype=object)"
      ]
     },
     "execution_count": 10,
     "metadata": {},
     "output_type": "execute_result"
    }
   ],
   "source": [
    "df.columns.values"
   ]
  },
  {
   "cell_type": "code",
   "execution_count": 11,
   "metadata": {
    "colab": {},
    "colab_type": "code",
    "id": "LlhJzHOSUtFU"
   },
   "outputs": [],
   "source": [
    "categories = ['Family', 'Genus', 'Species']"
   ]
  },
  {
   "cell_type": "code",
   "execution_count": 12,
   "metadata": {
    "colab": {},
    "colab_type": "code",
    "id": "1nDjoZwKUtFd"
   },
   "outputs": [],
   "source": [
    "x_train = train_data.iloc[:, :-4]\n",
    "x_test = test_data.iloc[:, :-4]\n",
    "y_train = train_data.iloc[:, -4:-1]\n",
    "y_test = test_data.iloc[:, -4:-1]"
   ]
  },
  {
   "cell_type": "code",
   "execution_count": 13,
   "metadata": {
    "colab": {
     "base_uri": "https://localhost:8080/",
     "height": 290
    },
    "colab_type": "code",
    "id": "VFchhYPCUtFn",
    "outputId": "5ffcff3a-affd-4ffc-b90e-2d05b7791994"
   },
   "outputs": [
    {
     "name": "stdout",
     "output_type": "stream",
     "text": [
      "**Processing Family**\n",
      "Hamming Loss is 0.08\n",
      "Exact Match score is 0.92\n",
      "\n",
      "\n",
      "**Processing Genus**\n",
      "Hamming Loss is 0.08\n",
      "Exact Match score is 0.92\n",
      "\n",
      "\n",
      "**Processing Species**\n",
      "Hamming Loss is 0.08\n",
      "Exact Match score is 0.92\n",
      "\n",
      "\n"
     ]
    }
   ],
   "source": [
    "# Using pipeline for applying logistic regression and one vs rest classifier\n",
    "LogReg_pipeline = Pipeline([\n",
    "                ('clf', OneVsRestClassifier(LogisticRegression(solver='sag'), n_jobs=-1)),\n",
    "            ])\n",
    "for category in categories:\n",
    "    print('**Processing {}**'.format(category))\n",
    "    \n",
    "    # Training logistic regression model on train data\n",
    "    LogReg_pipeline.fit(x_train, train_data[category])\n",
    "    \n",
    "    # calculating test accuracy\n",
    "    prediction = LogReg_pipeline.predict(x_test)\n",
    "    print('Hamming Loss is {}'.format(round(hamming_loss(test_data[category], prediction), 2)))\n",
    "    print('Exact Match score is {}'.format(round(accuracy_score(test_data[category], prediction), 2)))\n",
    "    print(\"\\n\")\n",
    "    "
   ]
  },
  {
   "cell_type": "markdown",
   "metadata": {
    "colab_type": "text",
    "id": "BJZEmWiTUtF5"
   },
   "source": [
    "### ii. Train a SVM for each of the labels, using Gaussian kernels and one versus all classifiers. Determine the weight of the SVM penalty and the width of the Gaussian Kernel using 10 fold cross validation. You are welcome to try to solve the problem with both standardized and raw attributes and report the results."
   ]
  },
  {
   "cell_type": "code",
   "execution_count": 14,
   "metadata": {
    "colab": {},
    "colab_type": "code",
    "id": "dHFpwDR0UtF8"
   },
   "outputs": [],
   "source": [
    "from sklearn.svm import SVC\n",
    "from sklearn.model_selection import StratifiedKFold"
   ]
  },
  {
   "cell_type": "code",
   "execution_count": 15,
   "metadata": {
    "colab": {},
    "colab_type": "code",
    "id": "4nC_dwzmUtGH"
   },
   "outputs": [],
   "source": [
    "from sklearn.model_selection import GridSearchCV\n",
    "parameters = {'C':np.logspace(-5, 8, 10), \n",
    "              'gamma': np.append(np.logspace(-4, -1, 10), np.logspace(0, 2, 10))}"
   ]
  },
  {
   "cell_type": "code",
   "execution_count": null,
   "metadata": {
    "colab": {
     "base_uri": "https://localhost:8080/",
     "height": 35
    },
    "colab_type": "code",
    "id": "VDqFImlTreYW",
    "outputId": "6be5dd03-3d05-4373-a6d4-04fb0aea1208"
   },
   "outputs": [
    {
     "name": "stdout",
     "output_type": "stream",
     "text": [
      "**Processing Family**\n",
      "Best Parameter {'gamma': 2.7825594022071245, 'C': 166.81005372000593}\n",
      "Precision 0.99\n",
      "Recall 0.99\n",
      "F1 Score 0.99\n",
      "Exact Match score is 0.99\n",
      "\n",
      "\n",
      "\n",
      "**Processing Genus**\n"
     ]
    }
   ],
   "source": [
    "pred = pd.DataFrame()\n",
    "for category in categories:\n",
    "    print('**Processing {}**'.format(category))\n",
    "    svc = SVC(kernel='rbf', decision_function_shape='ovr')\n",
    "    kf = StratifiedKFold(n_splits=10, shuffle=True)\n",
    "    clf = GridSearchCV(svc, parameters, cv=kf, scoring='accuracy')\n",
    "    clf.fit(x_train, train_data[category])\n",
    "    \n",
    "    # calculating test accuracy\n",
    "    sv = clf.best_estimator_\n",
    "    y_pred = sv.predict(x_test)\n",
    "    y_true = test_data[category]\n",
    "    pred[category] = y_pred\n",
    "    print('Best Parameter {}'.format(clf.best_params_))\n",
    "    print('Precision {}'.format(round(metrics.precision_score(y_true, y_pred, average='micro'), 2)))\n",
    "    print('Recall {}'.format(round(metrics.recall_score(y_true, y_pred, average='micro'), 2)))\n",
    "    print('F1 Score {}'.format(round(metrics.f1_score(y_true, y_pred, average='micro'), 2)))\n",
    "    print('Exact Match score is {}'.format(round(accuracy_score(y_true, y_pred), 2)))\n",
    "    print(\"\\n\\n\")"
   ]
  },
  {
   "cell_type": "code",
   "execution_count": null,
   "metadata": {
    "colab": {},
    "colab_type": "code",
    "id": "uT_4KgaIrhpD"
   },
   "outputs": [],
   "source": [
    "print('Prediction for Test data:\\n', pred.head())"
   ]
  },
  {
   "cell_type": "code",
   "execution_count": null,
   "metadata": {
    "colab": {},
    "colab_type": "code",
    "id": "7fjMZ7QDUtGu"
   },
   "outputs": [],
   "source": [
    "pred = pd.DataFrame(pred)\n",
    "print(\"The hamming loss for Gaussian kernel SVM is\", compute_hamming_loss(pred))"
   ]
  },
  {
   "cell_type": "markdown",
   "metadata": {
    "colab_type": "text",
    "id": "Io9r9rM2UtG5"
   },
   "source": [
    "### iii. Repeat 1(b)ii and L1-penalized SVMs. Remember to standardize the attributes"
   ]
  },
  {
   "cell_type": "code",
   "execution_count": null,
   "metadata": {
    "colab": {},
    "colab_type": "code",
    "id": "C7ya7-zKUtG8"
   },
   "outputs": [],
   "source": [
    "from sklearn.svm import LinearSVC"
   ]
  },
  {
   "cell_type": "code",
   "execution_count": null,
   "metadata": {
    "colab": {},
    "colab_type": "code",
    "id": "RB87BxDPUtHG"
   },
   "outputs": [],
   "source": [
    "from sklearn import metrics\n",
    "from sklearn.metrics import confusion_matrix\n",
    "from sklearn.model_selection import StratifiedKFold"
   ]
  },
  {
   "cell_type": "code",
   "execution_count": null,
   "metadata": {
    "colab": {},
    "colab_type": "code",
    "id": "nJIrwBx-UtHQ",
    "scrolled": true
   },
   "outputs": [],
   "source": [
    "pred2 = pd.DataFrame()\n",
    "for category in categories:\n",
    "    print('**Processing {}**'.format(category))\n",
    "    svc = LinearSVC(penalty='l1', multi_class='ovr', dual=False)\n",
    "    kf = StratifiedKFold(n_splits=10, shuffle=True)\n",
    "    clf = GridSearchCV(svc, parameters, cv=kf, scoring='accuracy')\n",
    "    clf.fit(x_train, train_data[category])\n",
    "\n",
    "    # calculating test accuracy\n",
    "    y_pred = clf.predict(x_test)\n",
    "    y_true = test_data[category]\n",
    "    pred[category] = y_pred\n",
    "    print('Best Parameter {}'.format(clf.best_params_))\n",
    "    print('Precision {}'.format(round(metrics.precision_score(y_true, y_pred, average='micro'), 2)))\n",
    "    print('Recall {}'.format(round(metrics.recall_score(y_true, y_pred, average='micro'), 2)))\n",
    "    print('F1 Score {}'.format(round(metrics.f1_score(y_true, y_pred, average='micro'), 2)))\n",
    "    #print('Hamming Loss is {}'.format(round(hamming_loss(y_true, y_pred), 2)))\n",
    "    print('Exact Match score is {}'.format(round(accuracy_score(y_true, y_pred), 2)))\n",
    "    print(\"\\n\\n\")"
   ]
  },
  {
   "cell_type": "code",
   "execution_count": null,
   "metadata": {
    "colab": {},
    "colab_type": "code",
    "id": "V2h4AU-jUtHb"
   },
   "outputs": [],
   "source": [
    "print('Prediction for Test data:\\n', pred2.head())"
   ]
  },
  {
   "cell_type": "code",
   "execution_count": null,
   "metadata": {
    "colab": {},
    "colab_type": "code",
    "id": "Wn1clz_cUtHo"
   },
   "outputs": [],
   "source": [
    "pred2 = pd.DataFrame(pred2)\n",
    "print(\"The hamming loss for linear SVM is\", compute_hamming_loss(pred2))"
   ]
  },
  {
   "cell_type": "markdown",
   "metadata": {
    "colab_type": "text",
    "id": "xYSymrfiUtHw"
   },
   "source": [
    "### iv. Repeat 1(b)iii by using SMOTE or any other method you know to remedy class imbalance. Report your conclusions about the classifiers you trained."
   ]
  },
  {
   "cell_type": "code",
   "execution_count": null,
   "metadata": {
    "colab": {},
    "colab_type": "code",
    "id": "AUQM_NcNUtHz"
   },
   "outputs": [],
   "source": [
    "sm = SMOTE(random_state=2)\n",
    "\n",
    "pred2 = pd.DataFrame()\n",
    "for category in categories:\n",
    "    print('**Processing {}**'.format(category))\n",
    "    svc = LinearSVC(penalty='l1', multi_class='ovr', dual=False)\n",
    "    kf = StratifiedKFold(n_splits=10, shuffle=True)\n",
    "    clf = GridSearchCV(svc, parameters, cv=kf, scoring='accuracy')\n",
    "    x_train_res, y_train_res = sm.fit_sample(x_train, train_data[category])\n",
    "    clf.fit(x_train_res, y_train_res)\n",
    "\n",
    "    # calculating test accuracy\n",
    "    y_pred = clf.predict(x_test)\n",
    "    y_true = test_data[category]\n",
    "    pred[category] = y_pred\n",
    "    print('Best Parameter {}'.format(clf.best_params_))\n",
    "    print('Precision {}'.format(round(metrics.precision_score(y_true, y_pred, average='micro'), 2)))\n",
    "    print('Recall {}'.format(round(metrics.recall_score(y_true, y_pred, average='micro'), 2)))\n",
    "    print('F1 Score {}'.format(round(metrics.f1_score(y_true, y_pred, average='micro'), 2)))\n",
    "    #print('Hamming Loss is {}'.format(round(hamming_loss(y_true, y_pred), 2)))\n",
    "    print('Exact Match score is {}'.format(round(accuracy_score(y_true, y_pred), 2)))\n",
    "    print(\"\\n\\n\")"
   ]
  },
  {
   "cell_type": "markdown",
   "metadata": {
    "colab_type": "text",
    "id": "ECyOQIElUtH_"
   },
   "source": [
    "### v. Extra Practice: Study the Classifier Chain method and apply it to the above problem."
   ]
  },
  {
   "cell_type": "code",
   "execution_count": null,
   "metadata": {
    "colab": {},
    "colab_type": "code",
    "id": "Z-2QjcXxkPK2"
   },
   "outputs": [],
   "source": [
    "!pip install skmultilearn"
   ]
  },
  {
   "cell_type": "code",
   "execution_count": null,
   "metadata": {
    "colab": {},
    "colab_type": "code",
    "id": "iR8xlIH2kDwb"
   },
   "outputs": [],
   "source": [
    "from sklearn.multioutput import ClassifierChain\n",
    "\n",
    "# initialize classifier chains multi-label classifier\n",
    "classifier = ClassifierChain(LogisticRegression())\n",
    "# Training logistic regression model on train data\n",
    "classifier.fit(x_train, y_train)\n",
    "# predict\n",
    "predictions = classifier.predict(x_test)\n",
    "# accuracy\n",
    "print(\"Accuracy = \",accuracy_score(y_test,predictions))\n",
    "print(\"\\n\")"
   ]
  },
  {
   "cell_type": "code",
   "execution_count": null,
   "metadata": {
    "colab": {},
    "colab_type": "code",
    "id": "DRwWJ7XuUtIC"
   },
   "outputs": [],
   "source": [
    "from sklearn.metrics import jaccard_similarity_score\n",
    "from sklearn.multioutput import ClassifierChain\n",
    "svc = LinearSVC(penalty='l1', multi_class='ovr', dual=False)\n",
    "\n",
    "y_tr = pd.DataFrame()\n",
    "for i in range(3):\n",
    "  d = dict(zip(y_train.iloc[:, i], range(len(y_train.iloc[:, i].unique()))))\n",
    "  y_tr[i] = y_train.iloc[:, i].map(d)\n",
    "  \n",
    "chains = [ClassifierChain(svc, order='random', random_state=5)\n",
    "          for i in range(10)]\n",
    "for chain in chains:\n",
    "    chain.fit(x_train, y_train)\n",
    "\n",
    "Y_pred_chains = np.array([chain.predict(x_test) for chain in\n",
    "                          chains])\n",
    "chain_jaccard_scores = [jaccard_similarity_score(y_test, Y_pred_chain >= .5)\n",
    "                        for Y_pred_chain in Y_pred_chains]\n",
    "\n",
    "print(Y_pred_chains.mean(axis=0))"
   ]
  },
  {
   "cell_type": "code",
   "execution_count": null,
   "metadata": {
    "colab": {},
    "colab_type": "code",
    "id": "W7HwOVc-fppk"
   },
   "outputs": [],
   "source": [
    "y_train.iloc[:,0].unique()"
   ]
  },
  {
   "cell_type": "markdown",
   "metadata": {
    "colab_type": "text",
    "id": "RMtsBn-qUtIR"
   },
   "source": [
    "### vi. Extra Practice: Research how confusion matrices, precision, recall, ROC, and AUC are defined for multi-label classification and compute them for the classifiers you trained in above."
   ]
  },
  {
   "cell_type": "code",
   "execution_count": null,
   "metadata": {
    "colab": {},
    "colab_type": "code",
    "id": "hXVef-57UtIT"
   },
   "outputs": [],
   "source": []
  },
  {
   "cell_type": "markdown",
   "metadata": {
    "colab_type": "text",
    "id": "m5Z3rzyDUtIb"
   },
   "source": [
    "# 2. K-Means Clustering on a Multi-Class and Multi-Label Data Set"
   ]
  },
  {
   "cell_type": "markdown",
   "metadata": {
    "colab_type": "text",
    "id": "lx9-Ez2vUtIj"
   },
   "source": [
    "## Monte-Carlo Simulation: Perform the following procedures 50 times, and report the average and standard deviation of the 50 Hamming Distances that you calculate."
   ]
  },
  {
   "cell_type": "markdown",
   "metadata": {
    "colab_type": "text",
    "id": "vbFyOebrUtIn"
   },
   "source": [
    "### (a) Use k-means clustering on the whole Anuran Calls (MFCCs) Data Set (do not split the data into train and test, as we are not performing supervised learning in this exercise). Choose k automatically based on one of the methods provided in the slides (CH or Gap Statistics or scree plots or Silhouettes) or any other method you know."
   ]
  },
  {
   "cell_type": "code",
   "execution_count": null,
   "metadata": {
    "colab": {},
    "colab_type": "code",
    "id": "_bW8QJgEUtIs"
   },
   "outputs": [],
   "source": [
    "from sklearn.cluster import KMeans\n",
    "from scipy.spatial.distance import cdist\n",
    "import matplotlib.pyplot as plt\n",
    "from sklearn.metrics import silhouette_score"
   ]
  },
  {
   "cell_type": "code",
   "execution_count": null,
   "metadata": {
    "colab": {},
    "colab_type": "code",
    "id": "wij3Us8wUtJA"
   },
   "outputs": [],
   "source": [
    "from tqdm import tqdm\n",
    "from statistics import mode"
   ]
  },
  {
   "cell_type": "code",
   "execution_count": null,
   "metadata": {
    "colab": {},
    "colab_type": "code",
    "id": "d4jo_thgUtJO"
   },
   "outputs": [],
   "source": [
    "# clustering dataset\n",
    "# determine k using elbow method\n",
    "# k means determine k\n",
    "K = range(2,15)\n",
    "ks = []\n",
    "dist = []\n",
    "blabels = []\n",
    "hamming_losses = []\n",
    "\n",
    "for i in tqdm(range(50)):\n",
    "    diss = []\n",
    "    silh = []\n",
    "    results = []\n",
    "    X = df.iloc[:, :-4]\n",
    "    for k in range(2, 15):\n",
    "        kmeanModel = KMeans(n_clusters=k).fit(X)\n",
    "        label = kmeanModel.labels_\n",
    "        results.append(label)\n",
    "        silh.append(silhouette_score(X, label))\n",
    "        diss.append(sum(np.min(cdist(X, kmeanModel.cluster_centers_, 'euclidean'), axis=1)) / X.shape[0])\n",
    "\n",
    "    index = np.argmax(silh)\n",
    "    best_k = index + 2\n",
    "    ks.append(best_k)\n",
    "    dist.append(diss)\n",
    "    best_labels = results[index]\n",
    "    blabels.append(best_labels)\n",
    "    print('The best value of K is', best_k)\n",
    "    \n",
    "    \n",
    "    labels_df = df[['Family', 'Genus', 'Species']].copy()\n",
    "    labels_df['kmeans_label'] = best_labels\n",
    "    majority_label = {}\n",
    "    for l in range(best_k):\n",
    "        cluster = labels_df[labels_df['kmeans_label'] == l]\n",
    "        majority_triplet = {}\n",
    "        for tl in ['Family', 'Genus', 'Species']:\n",
    "            majority_triplet[tl] = cluster[tl].value_counts().idxmax()\n",
    "        majority_label[l] = majority_triplet\n",
    "    print(\"Majority labels:\", majority_label)\n",
    "\n",
    "    #compute hamming loss\n",
    "    \n",
    "    misclassifed = 0\n",
    "    for l in range(best_k):\n",
    "        cluster = labels_df[labels_df['kmeans_label'] == l]\n",
    "        for tl in ['Family', 'Genus', 'Species']:\n",
    "            misclassifed += sum(cluster[tl] != majority_label[l][tl])\n",
    "    hamming_loss = misclassifed / (len(df) * 3)\n",
    "    hamming_losses.append(hamming_loss)\n",
    "\n",
    "kk = np.argmax(mode(ks)) + 2\n",
    "print('The values of k is', mode(ks))\n",
    "print('Best Labels are', blabels[kk])\n",
    "print('Mean of Hamming Loss', np.mean(hamming_losses))\n",
    "print('Std of Hamming Loss', np.std(hamming_losses))\n",
    "\n",
    "distortions = []\n",
    "for i in range(len(dist)):\n",
    "    av = 0\n",
    "    for j in range(len(dist)):\n",
    "         av += dist[j][i]\n",
    "    distortions.append(av/len(dist))\n",
    "\n",
    "# Plot the elbow\n",
    "plt.plot(K, distortions, 'bx-')\n",
    "plt.xlabel('k')\n",
    "plt.ylabel('Distortion')\n",
    "plt.title('The Elbow Method showing the optimal k')\n",
    "plt.show()"
   ]
  },
  {
   "cell_type": "markdown",
   "metadata": {
    "colab_type": "text",
    "id": "3dgLoIb9UtJf"
   },
   "source": [
    "### (b) In each cluster, determine which family is the majority by reading the true labels. Repeat for genus and species."
   ]
  },
  {
   "cell_type": "code",
   "execution_count": null,
   "metadata": {
    "colab": {},
    "colab_type": "code",
    "id": "e3apEyjnUtJi"
   },
   "outputs": [],
   "source": []
  },
  {
   "cell_type": "markdown",
   "metadata": {
    "colab_type": "text",
    "id": "nIX2qO3DUtJq"
   },
   "source": [
    "### (c) Now for each cluster you have a majority label triplet (family, genus, species). Calculate the average Hamming distance (score) between the true labels and the labels assigned by clusters."
   ]
  },
  {
   "cell_type": "code",
   "execution_count": null,
   "metadata": {
    "colab": {},
    "colab_type": "code",
    "id": "v1pYH19HUtJt"
   },
   "outputs": [],
   "source": []
  }
 ],
 "metadata": {
  "accelerator": "GPU",
  "colab": {
   "name": "Sub5.ipynb",
   "provenance": [],
   "version": "0.3.2"
  },
  "kernelspec": {
   "display_name": "Python 3",
   "language": "python",
   "name": "python3"
  },
  "language_info": {
   "codemirror_mode": {
    "name": "ipython",
    "version": 3
   },
   "file_extension": ".py",
   "mimetype": "text/x-python",
   "name": "python",
   "nbconvert_exporter": "python",
   "pygments_lexer": "ipython3",
   "version": "3.5.2"
  }
 },
 "nbformat": 4,
 "nbformat_minor": 1
}
